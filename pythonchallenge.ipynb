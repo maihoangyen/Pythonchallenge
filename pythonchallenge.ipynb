{
  "nbformat": 4,
  "nbformat_minor": 0,
  "metadata": {
    "colab": {
      "name": "pythonchallenge.ipynb",
      "provenance": [],
      "authorship_tag": "ABX9TyOrSZg0lj6yQnuURJ4GCXz3",
      "include_colab_link": true
    },
    "kernelspec": {
      "name": "python3",
      "display_name": "Python 3"
    },
    "language_info": {
      "name": "python"
    }
  },
  "cells": [
    {
      "cell_type": "markdown",
      "metadata": {
        "id": "view-in-github",
        "colab_type": "text"
      },
      "source": [
        "<a href=\"https://colab.research.google.com/github/maihoangyen/Pythonchallenge/blob/main/pythonchallenge.ipynb\" target=\"_parent\"><img src=\"https://colab.research.google.com/assets/colab-badge.svg\" alt=\"Open In Colab\"/></a>"
      ]
    },
    {
      "cell_type": "code",
      "execution_count": 1,
      "metadata": {
        "id": "k326Xr2XnUOK",
        "colab": {
          "base_uri": "https://localhost:8080/"
        },
        "outputId": "b4f86d79-d9d3-44c1-aa9c-1aeb5d73cdb4"
      },
      "outputs": [
        {
          "output_type": "stream",
          "name": "stdout",
          "text": [
            "linkedlist\n"
          ]
        }
      ],
      "source": [
        "# Thêm các thư viện\n",
        "import urllib.request # Thư viện này được sử dụng chủ yếu cho việc mở và lấy URL\n",
        "import re # Thư viện này sử dụng để làm việc với biểu thức chính quy\n",
        "def main():\n",
        "  # Đọc dữ liệu trong url và lưu thành chuỗi sau đó giải mã\n",
        "  html = urllib.request.urlopen(\"http://www.pythonchallenge.com/pc/def/equality.html\").read().decode()\n",
        "  # Trả về tất cả các kêt quả dưới dạng danh sách\n",
        "  data = re.findall(\"<!--(.*)-->\", html, re.DOTALL)[-1]\n",
        "  # Ghép kết quả lại và in nó ra màn hình \n",
        "  print(\"\".join(re.findall(\"[^A-Z]+[A-Z]{3}([a-z])[A-Z]{3}[^A-Z]+\", data)))\n",
        "if __name__ == '__main__':\n",
        "    main()"
      ]
    }
  ]
}